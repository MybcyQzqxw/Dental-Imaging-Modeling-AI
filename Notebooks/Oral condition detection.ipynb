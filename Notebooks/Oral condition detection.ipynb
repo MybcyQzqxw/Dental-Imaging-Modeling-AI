{
 "cells": [
  {
   "cell_type": "markdown",
   "id": "188068f8",
   "metadata": {},
   "source": [
    "## Import essential library"
   ]
  },
  {
   "cell_type": "code",
   "execution_count": 1,
   "id": "47475377",
   "metadata": {},
   "outputs": [],
   "source": [
    "from PIL import Image, ImageDraw\n",
    "import os\n",
    "import glob\n",
    "import xmltodict\n",
    "import matplotlib.pyplot as plt\n",
    "import numpy as np\n",
    "from tensorflow import keras\n",
    "import tensorflow as tf"
   ]
  },
  {
   "cell_type": "markdown",
   "id": "8562e637",
   "metadata": {},
   "source": [
    "## Get all images "
   ]
  },
  {
   "cell_type": "code",
   "execution_count": 2,
   "id": "542bff21",
   "metadata": {},
   "outputs": [],
   "source": [
    "images_paths = glob.glob(r'./Dataset -teeth/clean/train/images/*.JPG')"
   ]
  },
  {
   "cell_type": "code",
   "execution_count": 3,
   "id": "eed81f84",
   "metadata": {},
   "outputs": [
    {
     "data": {
      "text/plain": [
       "['./Dataset -teeth/clean/train/images/Image_2021-12-13 09_55_03_527.JPG',\n",
       " './Dataset -teeth/clean/train/images/Image_2021-12-13 12_20_20_160.JPG',\n",
       " './Dataset -teeth/clean/train/images/Image_2021-12-12 09_27_22_019.JPG',\n",
       " './Dataset -teeth/clean/train/images/Image_2021-12-12 09_28_34_766.JPG',\n",
       " './Dataset -teeth/clean/train/images/Image_2021-12-12 09_22_25_101.JPG',\n",
       " './Dataset -teeth/clean/train/images/Image_2021-12-13 12_08_50_916.JPG',\n",
       " './Dataset -teeth/clean/train/images/Image_2021-12-13 12_03_28_000.JPG',\n",
       " './Dataset -teeth/clean/train/images/Image_2021-12-13 11_14_34_604.JPG',\n",
       " './Dataset -teeth/clean/train/images/Image_2021-12-12 09_48_32_557.JPG',\n",
       " './Dataset -teeth/clean/train/images/Image_2021-12-12 09_48_20_888.JPG',\n",
       " './Dataset -teeth/clean/train/images/Image_2021-12-12 09_21_08_800.JPG',\n",
       " './Dataset -teeth/clean/train/images/Image_2021-12-12 09_50_30_362.JPG',\n",
       " './Dataset -teeth/clean/train/images/Image_2021-12-13 12_03_29_417.JPG',\n",
       " './Dataset -teeth/clean/train/images/Image_2021-12-12 09_28_02_558.JPG',\n",
       " './Dataset -teeth/clean/train/images/Image_2021-12-12 09_24_45_227.JPG',\n",
       " './Dataset -teeth/clean/train/images/Image_2021-12-13 09_55_07_707.JPG',\n",
       " './Dataset -teeth/clean/train/images/Image_2021-12-12 09_51_56_313.JPG',\n",
       " './Dataset -teeth/clean/train/images/Image_2021-12-13 12_07_26_405.JPG',\n",
       " './Dataset -teeth/clean/train/images/Image_2021-12-13 10_33_48_036.JPG',\n",
       " './Dataset -teeth/clean/train/images/Image_2021-12-13 09_55_24_913.JPG',\n",
       " './Dataset -teeth/clean/train/images/Image_2021-12-13 12_01_17_058.JPG',\n",
       " './Dataset -teeth/clean/train/images/Image_2021-12-13 11_01_01_540.JPG',\n",
       " './Dataset -teeth/clean/train/images/Image_2021-12-12 09_20_38_190.JPG',\n",
       " './Dataset -teeth/clean/train/images/Image_2021-12-13 10_31_43_142.JPG',\n",
       " './Dataset -teeth/clean/train/images/Image_2021-12-13 10_34_02_570.JPG',\n",
       " './Dataset -teeth/clean/train/images/Image_2021-12-13 12_16_36_417.JPG',\n",
       " './Dataset -teeth/clean/train/images/Image_2021-12-13 12_09_32_160.JPG',\n",
       " './Dataset -teeth/clean/train/images/Image_2021-12-13 09_54_29_186.JPG',\n",
       " './Dataset -teeth/clean/train/images/Image_2021-12-12 09_32_51_717.JPG',\n",
       " './Dataset -teeth/clean/train/images/Image_2021-12-12 09_48_31_726.JPG',\n",
       " './Dataset -teeth/clean/train/images/Image_2021-12-13 11_01_25_057.JPG',\n",
       " './Dataset -teeth/clean/train/images/Image_2021-12-12 09_22_02_302.JPG',\n",
       " './Dataset -teeth/clean/train/images/Image_2021-12-13 12_14_32_093.JPG',\n",
       " './Dataset -teeth/clean/train/images/Image_2021-12-13 11_12_41_073.JPG',\n",
       " './Dataset -teeth/clean/train/images/Image_2021-12-13 12_09_33_010.JPG',\n",
       " './Dataset -teeth/clean/train/images/Image_2021-12-13 10_33_39_443.JPG',\n",
       " './Dataset -teeth/clean/train/images/Image_2021-12-13 09_54_51_709.JPG',\n",
       " './Dataset -teeth/clean/train/images/Image_2021-12-13 11_02_56_707.JPG',\n",
       " './Dataset -teeth/clean/train/images/Image_2021-12-13 12_03_30_389.JPG',\n",
       " './Dataset -teeth/clean/train/images/Image_2021-12-12 09_48_03_707.JPG',\n",
       " './Dataset -teeth/clean/train/images/Image_2021-12-13 12_13_55_366.JPG',\n",
       " './Dataset -teeth/clean/train/images/Image_2021-12-13 11_03_24_580.JPG',\n",
       " './Dataset -teeth/clean/train/images/Image_2021-12-12 09_48_38_901.JPG',\n",
       " './Dataset -teeth/clean/train/images/Image_2021-12-13 11_03_29_951.JPG',\n",
       " './Dataset -teeth/clean/train/images/Image_2021-12-12 09_34_44_841.JPG',\n",
       " './Dataset -teeth/clean/train/images/Image_2021-12-13 11_12_56_958.JPG',\n",
       " './Dataset -teeth/clean/train/images/Image_2021-12-12 09_52_04_188.JPG',\n",
       " './Dataset -teeth/clean/train/images/Image_2021-12-12 09_50_27_697.JPG',\n",
       " './Dataset -teeth/clean/train/images/Image_2021-12-13 10_57_01_379.JPG',\n",
       " './Dataset -teeth/clean/train/images/Image_2021-12-12 09_21_26_235.JPG',\n",
       " './Dataset -teeth/clean/train/images/Image_2021-12-13 12_03_12_169.JPG',\n",
       " './Dataset -teeth/clean/train/images/Image_2021-12-13 12_03_27_080.JPG',\n",
       " './Dataset -teeth/clean/train/images/Image_2021-12-13 09_56_31_255.JPG',\n",
       " './Dataset -teeth/clean/train/images/Image_2021-12-13 10_55_54_889.JPG',\n",
       " './Dataset -teeth/clean/train/images/Image_2021-12-13 12_02_14_168.JPG',\n",
       " './Dataset -teeth/clean/train/images/Image_2021-12-13 11_11_01_464.JPG',\n",
       " './Dataset -teeth/clean/train/images/Image_2021-12-13 11_03_54_080.JPG',\n",
       " './Dataset -teeth/clean/train/images/Image_2021-12-13 11_02_11_766.JPG',\n",
       " './Dataset -teeth/clean/train/images/Image_2021-12-13 10_33_45_749.JPG',\n",
       " './Dataset -teeth/clean/train/images/Image_2021-12-13 11_02_55_139.JPG',\n",
       " './Dataset -teeth/clean/train/images/Image_2021-12-13 11_14_11_980.JPG',\n",
       " './Dataset -teeth/clean/train/images/Image_2021-12-13 11_04_14_317.JPG',\n",
       " './Dataset -teeth/clean/train/images/Image_2021-12-13 11_12_58_438.JPG',\n",
       " './Dataset -teeth/clean/train/images/Image_2021-12-13 11_01_40_891.JPG',\n",
       " './Dataset -teeth/clean/train/images/Image_2021-12-13 12_02_03_364.JPG',\n",
       " './Dataset -teeth/clean/train/images/Image_2021-12-13 11_00_54_003.JPG',\n",
       " './Dataset -teeth/clean/train/images/Image_2021-12-12 09_27_07_596.JPG',\n",
       " './Dataset -teeth/clean/train/images/Image_2021-12-13 11_01_15_302.JPG',\n",
       " './Dataset -teeth/clean/train/images/Image_2021-12-12 09_48_16_627.JPG',\n",
       " './Dataset -teeth/clean/train/images/Image_2021-12-13 12_16_50_531.JPG',\n",
       " './Dataset -teeth/clean/train/images/Image_2021-12-13 09_54_28_250.JPG',\n",
       " './Dataset -teeth/clean/train/images/Image_2021-12-12 09_37_18_806.JPG',\n",
       " './Dataset -teeth/clean/train/images/Image_2021-12-13 11_14_29_518.JPG',\n",
       " './Dataset -teeth/clean/train/images/Image_2021-12-13 11_13_10_301.JPG',\n",
       " './Dataset -teeth/clean/train/images/Image_2021-12-13 11_14_28_904.JPG',\n",
       " './Dataset -teeth/clean/train/images/Image_2021-12-12 09_40_45_887.JPG',\n",
       " './Dataset -teeth/clean/train/images/Image_2021-12-13 09_55_02_351.JPG',\n",
       " './Dataset -teeth/clean/train/images/Image_2021-12-12 09_28_08_968.JPG',\n",
       " './Dataset -teeth/clean/train/images/Image_2021-12-13 11_02_52_782.JPG',\n",
       " './Dataset -teeth/clean/train/images/Image_2021-12-12 09_21_07_207.JPG',\n",
       " './Dataset -teeth/clean/train/images/Image_2021-12-12 09_33_43_792.JPG',\n",
       " './Dataset -teeth/clean/train/images/Image_2021-12-13 11_02_07_550.JPG',\n",
       " './Dataset -teeth/clean/train/images/Image_2021-12-13 09_55_45_290.JPG',\n",
       " './Dataset -teeth/clean/train/images/Image_2021-12-12 09_50_40_205.JPG',\n",
       " './Dataset -teeth/clean/train/images/Image_2021-12-13 11_13_37_703.JPG',\n",
       " './Dataset -teeth/clean/train/images/Image_2021-12-13 12_16_23_257.JPG',\n",
       " './Dataset -teeth/clean/train/images/Image_2021-12-12 09_33_12_202.JPG',\n",
       " './Dataset -teeth/clean/train/images/Image_2021-12-13 12_08_49_959.JPG',\n",
       " './Dataset -teeth/clean/train/images/Image_2021-12-13 12_07_26_847.JPG',\n",
       " './Dataset -teeth/clean/train/images/Image_2021-12-13 11_13_48_254.JPG',\n",
       " './Dataset -teeth/clean/train/images/Image_2021-12-13 12_02_17_155.JPG',\n",
       " './Dataset -teeth/clean/train/images/Image_2021-12-13 11_02_06_814.JPG',\n",
       " './Dataset -teeth/clean/train/images/Image_2021-12-13 11_10_36_687.JPG',\n",
       " './Dataset -teeth/clean/train/images/Image_2021-12-13 09_55_08_492.JPG',\n",
       " './Dataset -teeth/clean/train/images/Image_2021-12-12 09_28_36_438.JPG',\n",
       " './Dataset -teeth/clean/train/images/Image_2021-12-13 12_21_33_493.JPG',\n",
       " './Dataset -teeth/clean/train/images/Image_2021-12-13 11_14_28_323.JPG',\n",
       " './Dataset -teeth/clean/train/images/Image_2021-12-13 11_04_24_551.JPG',\n",
       " './Dataset -teeth/clean/train/images/Image_2021-12-13 12_21_32_904.JPG',\n",
       " './Dataset -teeth/clean/train/images/Image_2021-12-13 12_02_22_446.JPG',\n",
       " './Dataset -teeth/clean/train/images/Image_2021-12-13 11_02_20_236.JPG',\n",
       " './Dataset -teeth/clean/train/images/Image_2021-12-13 10_33_37_313.JPG',\n",
       " './Dataset -teeth/clean/train/images/Image_2021-12-13 10_32_33_388.JPG',\n",
       " './Dataset -teeth/clean/train/images/Image_2021-12-13 10_56_23_195.JPG',\n",
       " './Dataset -teeth/clean/train/images/Image_2021-12-13 11_02_51_450.JPG',\n",
       " './Dataset -teeth/clean/train/images/Image_2021-12-13 11_00_45_189.JPG',\n",
       " './Dataset -teeth/clean/train/images/Image_2021-12-13 11_02_54_529.JPG',\n",
       " './Dataset -teeth/clean/train/images/Image_2021-12-13 14_13_30_038.JPG',\n",
       " './Dataset -teeth/clean/train/images/Image_2021-12-13 12_14_19_207.JPG',\n",
       " './Dataset -teeth/clean/train/images/Image_2021-12-13 12_09_16_238.JPG',\n",
       " './Dataset -teeth/clean/train/images/Image_2021-12-13 12_03_05_214.JPG',\n",
       " './Dataset -teeth/clean/train/images/Image_2021-12-13 11_13_22_697.JPG',\n",
       " './Dataset -teeth/clean/train/images/Image_2021-12-12 09_27_58_118.JPG',\n",
       " './Dataset -teeth/clean/train/images/Image_2021-12-13 11_03_34_253.JPG',\n",
       " './Dataset -teeth/clean/train/images/Image_2021-12-13 11_04_24_985.JPG',\n",
       " './Dataset -teeth/clean/train/images/Image_2021-12-13 12_02_07_204.JPG',\n",
       " './Dataset -teeth/clean/train/images/Image_2021-12-13 10_55_58_590.JPG',\n",
       " './Dataset -teeth/clean/train/images/Image_2021-12-13 10_32_36_216.JPG',\n",
       " './Dataset -teeth/clean/train/images/Image_2021-12-13 11_02_51_064.JPG',\n",
       " './Dataset -teeth/clean/train/images/Image_2021-12-13 11_03_26_401.JPG',\n",
       " './Dataset -teeth/clean/train/images/Image_2021-12-13 11_13_00_860.JPG',\n",
       " './Dataset -teeth/clean/train/images/Image_2021-12-12 09_52_03_603.JPG',\n",
       " './Dataset -teeth/clean/train/images/Image_2021-12-13 11_02_57_626.JPG',\n",
       " './Dataset -teeth/clean/train/images/Image_2021-12-13 11_14_01_156.JPG',\n",
       " './Dataset -teeth/clean/train/images/Image_2021-12-12 09_21_03_173.JPG',\n",
       " './Dataset -teeth/clean/train/images/Image_2021-12-13 10_32_49_195.JPG',\n",
       " './Dataset -teeth/clean/train/images/Image_2021-12-12 09_21_30_368.JPG',\n",
       " './Dataset -teeth/clean/train/images/Image_2021-12-13 11_01_17_556.JPG',\n",
       " './Dataset -teeth/clean/train/images/Image_2021-12-13 10_56_28_922.JPG',\n",
       " './Dataset -teeth/clean/train/images/Image_2021-12-13 09_55_13_764.JPG',\n",
       " './Dataset -teeth/clean/train/images/Image_2021-12-13 11_13_57_801.JPG',\n",
       " './Dataset -teeth/clean/train/images/Image_2021-12-13 11_02_58_702.JPG',\n",
       " './Dataset -teeth/clean/train/images/Image_2021-12-13 11_02_58_064.JPG',\n",
       " './Dataset -teeth/clean/train/images/Image_2021-12-13 11_12_56_510.JPG',\n",
       " './Dataset -teeth/clean/train/images/Image_2021-12-13 12_09_30_180.JPG',\n",
       " './Dataset -teeth/clean/train/images/Image_2021-12-13 12_18_02_003.JPG',\n",
       " './Dataset -teeth/clean/train/images/Image_2021-12-13 11_13_22_317.JPG',\n",
       " './Dataset -teeth/clean/train/images/Image_2021-12-13 09_55_09_262.JPG',\n",
       " './Dataset -teeth/clean/train/images/Image_2021-12-13 10_57_18_101.JPG',\n",
       " './Dataset -teeth/clean/train/images/Image_2021-12-13 10_56_24_087.JPG',\n",
       " './Dataset -teeth/clean/train/images/Image_2021-12-12 09_40_50_662.JPG',\n",
       " './Dataset -teeth/clean/train/images/Image_2021-12-13 11_13_21_561.JPG',\n",
       " './Dataset -teeth/clean/train/images/Image_2021-12-13 09_54_57_486.JPG',\n",
       " './Dataset -teeth/clean/train/images/Image_2021-12-12 09_22_23_101.JPG',\n",
       " './Dataset -teeth/clean/train/images/Image_2021-12-13 10_32_38_078.JPG',\n",
       " './Dataset -teeth/clean/train/images/Image_2021-12-13 11_01_27_893.JPG',\n",
       " './Dataset -teeth/clean/train/images/Image_2021-12-13 10_30_40_079.JPG',\n",
       " './Dataset -teeth/clean/train/images/Image_2021-12-13 10_31_00_180.JPG',\n",
       " './Dataset -teeth/clean/train/images/Image_2021-12-13 09_54_54_801.JPG',\n",
       " './Dataset -teeth/clean/train/images/Image_2021-12-13 10_33_32_061.JPG',\n",
       " './Dataset -teeth/clean/train/images/Image_2021-12-13 09_54_53_300.JPG',\n",
       " './Dataset -teeth/clean/train/images/Image_2021-12-13 12_02_11_293.JPG',\n",
       " './Dataset -teeth/clean/train/images/Image_2021-12-13 11_10_35_612.JPG',\n",
       " './Dataset -teeth/clean/train/images/Image_2021-12-13 12_03_11_412.JPG',\n",
       " './Dataset -teeth/clean/train/images/Image_2021-12-13 12_18_25_361.JPG',\n",
       " './Dataset -teeth/clean/train/images/Image_2021-12-13 11_00_52_936.JPG',\n",
       " './Dataset -teeth/clean/train/images/Image_2021-12-13 11_11_03_697.JPG',\n",
       " './Dataset -teeth/clean/train/images/Image_2021-12-12 09_21_28_355.JPG',\n",
       " './Dataset -teeth/clean/train/images/Image_2021-12-12 09_52_17_785.JPG',\n",
       " './Dataset -teeth/clean/train/images/Image_2021-12-13 14_13_53_626.JPG',\n",
       " './Dataset -teeth/clean/train/images/Image_2021-12-13 12_03_03_066.JPG',\n",
       " './Dataset -teeth/clean/train/images/Image_2021-12-13 10_59_59_703.JPG',\n",
       " './Dataset -teeth/clean/train/images/Image_2021-12-13 09_55_46_412.JPG',\n",
       " './Dataset -teeth/clean/train/images/Image_2021-12-13 11_02_20_982.JPG',\n",
       " './Dataset -teeth/clean/train/images/Image_2021-12-13 11_02_50_717.JPG',\n",
       " './Dataset -teeth/clean/train/images/Image_2021-12-13 09_55_22_752.JPG',\n",
       " './Dataset -teeth/clean/train/images/Image_2021-12-13 10_33_27_426.JPG',\n",
       " './Dataset -teeth/clean/train/images/Image_2021-12-13 11_10_41_221.JPG',\n",
       " './Dataset -teeth/clean/train/images/Image_2021-12-13 11_12_49_494.JPG',\n",
       " './Dataset -teeth/clean/train/images/Image_2021-12-12 09_21_43_325.JPG',\n",
       " './Dataset -teeth/clean/train/images/Image_2021-12-13 12_16_51_213.JPG',\n",
       " './Dataset -teeth/clean/train/images/Image_2021-12-12 09_52_22_353.JPG',\n",
       " './Dataset -teeth/clean/train/images/Image_2021-12-13 12_07_35_484.JPG',\n",
       " './Dataset -teeth/clean/train/images/Image_2021-12-12 09_52_44_602.JPG',\n",
       " './Dataset -teeth/clean/train/images/Image_2021-12-13 09_54_27_336.JPG',\n",
       " './Dataset -teeth/clean/train/images/Image_2021-12-12 09_22_11_423.JPG',\n",
       " './Dataset -teeth/clean/train/images/Image_2021-12-13 10_55_52_791.JPG',\n",
       " './Dataset -teeth/clean/train/images/Image_2021-12-13 11_02_59_610.JPG',\n",
       " './Dataset -teeth/clean/train/images/Image_2021-12-13 11_14_02_631.JPG',\n",
       " './Dataset -teeth/clean/train/images/Image_2021-12-13 12_09_34_934.JPG',\n",
       " './Dataset -teeth/clean/train/images/Image_2021-12-13 12_23_45_246.JPG',\n",
       " './Dataset -teeth/clean/train/images/Image_2021-12-13 12_09_39_056.JPG',\n",
       " './Dataset -teeth/clean/train/images/Image_2021-12-13 11_12_59_694.JPG',\n",
       " './Dataset -teeth/clean/train/images/Image_2021-12-13 10_30_54_639.JPG',\n",
       " './Dataset -teeth/clean/train/images/Image_2021-12-13 10_33_23_809.JPG',\n",
       " './Dataset -teeth/clean/train/images/Image_2021-12-12 09_27_28_930.JPG',\n",
       " './Dataset -teeth/clean/train/images/Image_2021-12-13 11_02_38_671.JPG',\n",
       " './Dataset -teeth/clean/train/images/Image_2021-12-12 09_40_42_714.JPG',\n",
       " './Dataset -teeth/clean/train/images/Image_2021-12-12 09_21_53_086.JPG',\n",
       " './Dataset -teeth/clean/train/images/Image_2021-12-13 11_10_40_597.JPG',\n",
       " './Dataset -teeth/clean/train/images/Image_2021-12-13 12_09_26_029.JPG',\n",
       " './Dataset -teeth/clean/train/images/Image_2021-12-13 11_12_54_937.JPG',\n",
       " './Dataset -teeth/clean/train/images/Image_2021-12-13 11_00_23_705.JPG',\n",
       " './Dataset -teeth/clean/train/images/Image_2021-12-12 09_48_18_569.JPG',\n",
       " './Dataset -teeth/clean/train/images/Image_2021-12-12 09_48_40_001.JPG',\n",
       " './Dataset -teeth/clean/train/images/Image_2021-12-13 11_11_07_947.JPG',\n",
       " './Dataset -teeth/clean/train/images/Image_2021-12-13 10_32_37_470.JPG',\n",
       " './Dataset -teeth/clean/train/images/Image_2021-12-13 11_01_15_970.JPG',\n",
       " './Dataset -teeth/clean/train/images/Image_2021-12-13 11_01_10_175.JPG',\n",
       " './Dataset -teeth/clean/train/images/Image_2021-12-13 12_02_01_190.JPG',\n",
       " './Dataset -teeth/clean/train/images/Image_2021-12-13 11_02_45_222.JPG',\n",
       " './Dataset -teeth/clean/train/images/Image_2021-12-12 09_52_30_494.JPG',\n",
       " './Dataset -teeth/clean/train/images/Image_2021-12-12 09_52_32_778.JPG',\n",
       " './Dataset -teeth/clean/train/images/Image_2021-12-13 11_14_45_482.JPG',\n",
       " './Dataset -teeth/clean/train/images/Image_2021-12-13 11_12_40_337.JPG',\n",
       " './Dataset -teeth/clean/train/images/Image_2021-12-13 11_14_33_891.JPG',\n",
       " './Dataset -teeth/clean/train/images/Image_2021-12-13 12_09_36_572.JPG',\n",
       " './Dataset -teeth/clean/train/images/Image_2021-12-13 11_01_11_774.JPG',\n",
       " './Dataset -teeth/clean/train/images/Image_2021-12-12 09_20_27_043.JPG',\n",
       " './Dataset -teeth/clean/train/images/Image_2021-12-12 09_21_46_463.JPG',\n",
       " './Dataset -teeth/clean/train/images/Image_2021-12-13 11_01_03_315.JPG',\n",
       " './Dataset -teeth/clean/train/images/Image_2021-12-13 09_56_31_856.JPG',\n",
       " './Dataset -teeth/clean/train/images/Image_2021-12-12 09_50_25_957.JPG',\n",
       " './Dataset -teeth/clean/train/images/Image_2021-12-12 09_41_09_505.JPG',\n",
       " './Dataset -teeth/clean/train/images/Image_2021-12-12 09_24_50_392.JPG',\n",
       " './Dataset -teeth/clean/train/images/Image_2021-12-13 14_13_38_849.JPG',\n",
       " './Dataset -teeth/clean/train/images/Image_2021-12-13 11_14_01_865.JPG',\n",
       " './Dataset -teeth/clean/train/images/Image_2021-12-13 10_31_07_407.JPG',\n",
       " './Dataset -teeth/clean/train/images/Image_2021-12-13 10_59_58_407.JPG',\n",
       " './Dataset -teeth/clean/train/images/Image_2021-12-13 12_18_27_945.JPG',\n",
       " './Dataset -teeth/clean/train/images/Image_2021-12-13 10_33_36_382.JPG']"
      ]
     },
     "execution_count": 3,
     "metadata": {},
     "output_type": "execute_result"
    }
   ],
   "source": [
    "images_paths"
   ]
  },
  {
   "cell_type": "markdown",
   "id": "193ec00c",
   "metadata": {},
   "source": [
    "## Every image file in the dataset is 480 X 480, so there is no need to resize the images"
   ]
  },
  {
   "cell_type": "code",
   "execution_count": 3,
   "id": "67039d7c",
   "metadata": {},
   "outputs": [],
   "source": [
    "images = []\n",
    "for imagefile in images_paths:\n",
    "    image = Image.open(imagefile)\n",
    "    image = np.asarray(image)/255.0\n",
    "    images.append(image)"
   ]
  },
  {
   "cell_type": "markdown",
   "id": "a9ce6ec2",
   "metadata": {},
   "source": [
    "## Get the bounding box location, prepare the targets"
   ]
  },
  {
   "cell_type": "code",
   "execution_count": 4,
   "id": "1a151bbf",
   "metadata": {},
   "outputs": [],
   "source": [
    "bboxes = []\n",
    "classes_raw = []\n",
    "annotations_paths = glob.glob( r'./Dataset -teeth/clean/train/images/*.xml')\n",
    "for xmlfile in annotations_paths:\n",
    "    x = xmltodict.parse( open( xmlfile , 'rb' ) )\n",
    "    bndbox = x[ 'annotation' ][ 'object' ][ 'bndbox' ]\n",
    "    bndbox = np.array([ int(bndbox[ 'xmin' ]) , int(bndbox[ 'ymin' ]) , int(bndbox[ 'xmax' ]) , int(bndbox[ 'ymax' ]) ])\n",
    "    bndbox2 = [ None ] * 4\n",
    "    bndbox2[0] = bndbox[0]\n",
    "    bndbox2[1] = bndbox[1]\n",
    "    bndbox2[2] = bndbox[2]\n",
    "    bndbox2[3] = bndbox[3]\n",
    "    bndbox2 = np.array( bndbox2 ) / 480\n",
    "    bboxes.append( bndbox2 )\n",
    "    classes_raw.append( x[ 'annotation' ][ 'object' ][ 'name' ] )"
   ]
  },
  {
   "cell_type": "markdown",
   "id": "585ea5e6",
   "metadata": {},
   "source": [
    "## Create training and testing data"
   ]
  },
  {
   "cell_type": "code",
   "execution_count": 5,
   "id": "70e784b1",
   "metadata": {},
   "outputs": [],
   "source": [
    "from sklearn.preprocessing import LabelBinarizer\n",
    "from sklearn.model_selection import train_test_split"
   ]
  },
  {
   "cell_type": "code",
   "execution_count": 6,
   "id": "7a460fb4",
   "metadata": {},
   "outputs": [],
   "source": [
    "boxes = np.array( bboxes ) \n",
    "encoder = LabelBinarizer()\n",
    "classes_onehot = encoder.fit_transform( classes_raw )"
   ]
  },
  {
   "cell_type": "code",
   "execution_count": 7,
   "id": "fd5e5ee6",
   "metadata": {},
   "outputs": [],
   "source": [
    "Y = np.concatenate( [ boxes , classes_onehot ] , axis=1 )\n",
    "X = np.array( images )"
   ]
  },
  {
   "cell_type": "code",
   "execution_count": 9,
   "id": "e4efe0fa",
   "metadata": {},
   "outputs": [
    {
     "data": {
      "text/plain": [
       "array([[0.27291667, 0.01041667, 0.65833333, 0.51875   , 0.        ],\n",
       "       [0.57291667, 0.04375   , 0.97083333, 0.58958333, 0.        ],\n",
       "       [0.59375   , 0.19375   , 1.        , 0.7625    , 0.        ],\n",
       "       ...,\n",
       "       [0.39375   , 0.37083333, 0.68541667, 0.6375    , 0.        ],\n",
       "       [0.16666667, 0.11458333, 0.7625    , 0.58541667, 0.        ],\n",
       "       [0.18958333, 0.5875    , 0.62708333, 1.        , 0.        ]])"
      ]
     },
     "execution_count": 9,
     "metadata": {},
     "output_type": "execute_result"
    }
   ],
   "source": [
    "Y"
   ]
  },
  {
   "cell_type": "code",
   "execution_count": 8,
   "id": "48ea21f7",
   "metadata": {},
   "outputs": [
    {
     "name": "stdout",
     "output_type": "stream",
     "text": [
      "(221, 5)\n",
      "(221, 480, 480, 3)\n"
     ]
    }
   ],
   "source": [
    "print(Y.shape)\n",
    "print(X.shape)"
   ]
  },
  {
   "cell_type": "code",
   "execution_count": 9,
   "id": "e8240ee5",
   "metadata": {},
   "outputs": [
    {
     "data": {
      "text/plain": [
       "numpy.float64"
      ]
     },
     "execution_count": 9,
     "metadata": {},
     "output_type": "execute_result"
    }
   ],
   "source": [
    "type(X[0][0][0][0])"
   ]
  },
  {
   "cell_type": "code",
   "execution_count": 10,
   "id": "4aa8160b",
   "metadata": {},
   "outputs": [
    {
     "data": {
      "text/plain": [
       "numpy.float64"
      ]
     },
     "execution_count": 10,
     "metadata": {},
     "output_type": "execute_result"
    }
   ],
   "source": [
    "type(Y[0][0])"
   ]
  },
  {
   "cell_type": "code",
   "execution_count": 11,
   "id": "e513d0c0",
   "metadata": {},
   "outputs": [],
   "source": [
    "x_train, x_test, y_train, y_test = train_test_split( X, Y, test_size=0.1 )"
   ]
  },
  {
   "cell_type": "markdown",
   "id": "f3d4f693",
   "metadata": {},
   "source": [
    "## Define the loss function and metrics\n",
    "\n",
    "### Loss function:\n",
    "Combine the Mean Square Error and Intersection over Union\n",
    "\n",
    "$L(x,x') = MSE(x,x') + (1 - IOU(x, x'))$\n",
    "\n",
    "$IOU(x,x') = {x \\bigcap x' \\over x \\bigcup x'}$\n",
    "\n",
    "### Evaluation Metrics\n",
    "$IOU(x,x') = {x \\bigcap x' \\over x \\bigcup x'}$"
   ]
  },
  {
   "cell_type": "code",
   "execution_count": 12,
   "id": "105b76fc",
   "metadata": {},
   "outputs": [],
   "source": [
    "import tensorflow.keras.backend as K"
   ]
  },
  {
   "cell_type": "markdown",
   "id": "4d3fc8e1",
   "metadata": {},
   "source": [
    "### Define the IOU function"
   ]
  },
  {
   "cell_type": "markdown",
   "id": "9477cd1b",
   "metadata": {},
   "source": [
    "### Define the loss function and evaluation metrics"
   ]
  },
  {
   "cell_type": "code",
   "execution_count": 3,
   "id": "a9ea7a45",
   "metadata": {},
   "outputs": [],
   "source": [
    "def calculate_iou( target_boxes , pred_boxes ):\n",
    "    xA = K.maximum( target_boxes[ ... , 0], pred_boxes[ ... , 0] )\n",
    "    yA = K.maximum( target_boxes[ ... , 1], pred_boxes[ ... , 1] )\n",
    "    xB = K.minimum( target_boxes[ ... , 2], pred_boxes[ ... , 2] )\n",
    "    yB = K.minimum( target_boxes[ ... , 3], pred_boxes[ ... , 3] )\n",
    "    interArea = K.maximum( 0.0 , xB - xA ) * K.maximum( 0.0 , yB - yA )\n",
    "    boxAArea = (target_boxes[ ... , 2] - target_boxes[ ... , 0]) * (target_boxes[ ... , 3] - target_boxes[ ... , 1])\n",
    "    boxBArea = (pred_boxes[ ... , 2] - pred_boxes[ ... , 0]) * (pred_boxes[ ... , 3] - pred_boxes[ ... , 1])\n",
    "    iou = interArea / ( boxAArea + boxBArea - interArea )\n",
    "    return iou\n",
    "\n",
    "def custom_loss( y_true , y_pred ):\n",
    "    mse = tf.losses.mean_squared_error( y_true , y_pred ) \n",
    "    iou = calculate_iou( y_true , y_pred ) \n",
    "    return mse + ( 1 - iou )\n",
    "\n",
    "def iou_metric( y_true , y_pred ):\n",
    "    return calculate_iou( y_true , y_pred )"
   ]
  },
  {
   "cell_type": "markdown",
   "id": "856ed71f",
   "metadata": {},
   "source": [
    "## Create the model\n",
    "\n",
    "[Description about the model]"
   ]
  },
  {
   "cell_type": "code",
   "execution_count": 14,
   "id": "42d89c5a",
   "metadata": {},
   "outputs": [],
   "source": [
    "input_shape = ( 480 , 480 , 3 )\n",
    "dropout_rate = 0.5\n",
    "alpha = 0.2\n",
    "num_classes = 1\n",
    "pred_vector_length = 4 + num_classes"
   ]
  },
  {
   "cell_type": "code",
   "execution_count": 15,
   "id": "36fe0d22",
   "metadata": {},
   "outputs": [],
   "source": [
    "model_layers = [       \n",
    "\tkeras.layers.Conv2D(16, kernel_size=(3, 3), strides=1, input_shape=input_shape),\n",
    "    keras.layers.LeakyReLU( alpha=alpha ) ,\n",
    "    keras.layers.Conv2D(16, kernel_size=(3, 3), strides=1 ),\n",
    "    keras.layers.LeakyReLU( alpha=alpha ) ,\n",
    "    keras.layers.MaxPooling2D( pool_size=( 2 , 2 ) ),\n",
    "\n",
    "    keras.layers.Conv2D(32, kernel_size=(3, 3), strides=1),\n",
    "    keras.layers.LeakyReLU( alpha=alpha ) ,\n",
    "    keras.layers.Conv2D(32, kernel_size=(3, 3), strides=1),\n",
    "    keras.layers.LeakyReLU( alpha=alpha ) ,\n",
    "    keras.layers.MaxPooling2D( pool_size=( 2 , 2 ) ),\n",
    "\n",
    "    keras.layers.Conv2D(64, kernel_size=(3, 3), strides=1),\n",
    "    keras.layers.LeakyReLU( alpha=alpha ) ,\n",
    "    keras.layers.Conv2D(64, kernel_size=(3, 3), strides=1),\n",
    "    keras.layers.LeakyReLU( alpha=alpha ) ,\n",
    "    keras.layers.MaxPooling2D( pool_size=( 2 , 2 ) ),\n",
    "\n",
    "    keras.layers.Conv2D(128, kernel_size=(3, 3), strides=1),\n",
    "    keras.layers.LeakyReLU( alpha=alpha ) ,\n",
    "    keras.layers.Conv2D(128, kernel_size=(3, 3), strides=1),\n",
    "    keras.layers.LeakyReLU( alpha=alpha ) ,\n",
    "    keras.layers.MaxPooling2D( pool_size=( 2 , 2 ) ),\n",
    "\n",
    "    keras.layers.Conv2D(256, kernel_size=(3, 3), strides=1),\n",
    "    keras.layers.LeakyReLU( alpha=alpha ) ,\n",
    "    keras.layers.Conv2D(256, kernel_size=(3, 3), strides=1),\n",
    "    keras.layers.LeakyReLU( alpha=alpha ) ,\n",
    "    keras.layers.MaxPooling2D( pool_size=( 2 , 2 ) ),\n",
    "\n",
    "    keras.layers.Flatten() , \n",
    "\n",
    "    keras.layers.Dense( 1240 ) , \n",
    "    keras.layers.LeakyReLU( alpha=alpha ) ,\n",
    "    keras.layers.Dense( 640 ) , \n",
    "    keras.layers.LeakyReLU( alpha=alpha ) ,\n",
    "    keras.layers.Dense( 480 ) , \n",
    "    keras.layers.LeakyReLU( alpha=alpha ) ,\n",
    "    keras.layers.Dense( 120 ) , \n",
    "    keras.layers.LeakyReLU( alpha=alpha ) ,\n",
    "    keras.layers.Dense( 62 ) , \n",
    "    keras.layers.LeakyReLU( alpha=alpha ) ,\n",
    "\n",
    "    keras.layers.Dense( pred_vector_length ),\n",
    "    keras.layers.LeakyReLU( alpha=alpha ) ,\n",
    "]\n",
    "\n",
    "model = keras.Sequential( model_layers )\n",
    "model.compile(\n",
    "\toptimizer=keras.optimizers.Adam( lr=0.0001 ),\n",
    "\tloss=custom_loss,\n",
    "    metrics=[ iou_metric ]\n",
    ")"
   ]
  },
  {
   "cell_type": "markdown",
   "id": "01283ea3",
   "metadata": {},
   "source": [
    "## Train the model"
   ]
  },
  {
   "cell_type": "code",
   "execution_count": 16,
   "id": "165a9c95",
   "metadata": {
    "scrolled": true
   },
   "outputs": [
    {
     "name": "stdout",
     "output_type": "stream",
     "text": [
      "Epoch 1/100\n",
      "WARNING:tensorflow:AutoGraph could not transform <function Model.make_train_function.<locals>.train_function at 0x166337160> and will run it as-is.\n",
      "Please report this to the TensorFlow team. When filing the bug, set the verbosity to 10 (on Linux, `export AUTOGRAPH_VERBOSITY=10`) and attach the full output.\n",
      "Cause: unsupported operand type(s) for -: 'NoneType' and 'int'\n",
      "To silence this warning, decorate the function with @tf.autograph.experimental.do_not_convert\n",
      "WARNING: AutoGraph could not transform <function Model.make_train_function.<locals>.train_function at 0x166337160> and will run it as-is.\n",
      "Please report this to the TensorFlow team. When filing the bug, set the verbosity to 10 (on Linux, `export AUTOGRAPH_VERBOSITY=10`) and attach the full output.\n",
      "Cause: unsupported operand type(s) for -: 'NoneType' and 'int'\n",
      "To silence this warning, decorate the function with @tf.autograph.experimental.do_not_convert\n",
      "WARNING:tensorflow:AutoGraph could not transform <function calculate_iou at 0x1660c6430> and will run it as-is.\n",
      "Please report this to the TensorFlow team. When filing the bug, set the verbosity to 10 (on Linux, `export AUTOGRAPH_VERBOSITY=10`) and attach the full output.\n",
      "Cause: module 'gast' has no attribute 'Index'\n",
      "To silence this warning, decorate the function with @tf.autograph.experimental.do_not_convert\n",
      "WARNING: AutoGraph could not transform <function calculate_iou at 0x1660c6430> and will run it as-is.\n",
      "Please report this to the TensorFlow team. When filing the bug, set the verbosity to 10 (on Linux, `export AUTOGRAPH_VERBOSITY=10`) and attach the full output.\n",
      "Cause: module 'gast' has no attribute 'Index'\n",
      "To silence this warning, decorate the function with @tf.autograph.experimental.do_not_convert\n"
     ]
    },
    {
     "name": "stderr",
     "output_type": "stream",
     "text": [
      "2022-02-21 19:23:38.214340: I tensorflow/compiler/mlir/mlir_graph_optimization_pass.cc:116] None of the MLIR optimization passes are enabled (registered 2)\n",
      "2022-02-21 19:23:38.214475: W tensorflow/core/platform/profile_utils/cpu_utils.cc:126] Failed to get CPU frequency: 0 Hz\n"
     ]
    },
    {
     "name": "stdout",
     "output_type": "stream",
     "text": [
      "66/66 [==============================] - ETA: 0s - loss: 0.9771 - iou_metric: 0.1310WARNING:tensorflow:AutoGraph could not transform <function Model.make_test_function.<locals>.test_function at 0x177f52160> and will run it as-is.\n",
      "Please report this to the TensorFlow team. When filing the bug, set the verbosity to 10 (on Linux, `export AUTOGRAPH_VERBOSITY=10`) and attach the full output.\n",
      "Cause: unsupported operand type(s) for -: 'NoneType' and 'int'\n",
      "To silence this warning, decorate the function with @tf.autograph.experimental.do_not_convert\n",
      "WARNING: AutoGraph could not transform <function Model.make_test_function.<locals>.test_function at 0x177f52160> and will run it as-is.\n",
      "Please report this to the TensorFlow team. When filing the bug, set the verbosity to 10 (on Linux, `export AUTOGRAPH_VERBOSITY=10`) and attach the full output.\n",
      "Cause: unsupported operand type(s) for -: 'NoneType' and 'int'\n",
      "To silence this warning, decorate the function with @tf.autograph.experimental.do_not_convert\n",
      "66/66 [==============================] - 21s 304ms/step - loss: 0.9755 - iou_metric: 0.1320 - val_loss: 0.8596 - val_iou_metric: 0.1939\n",
      "Epoch 2/100\n",
      "66/66 [==============================] - 20s 299ms/step - loss: 0.8404 - iou_metric: 0.2218 - val_loss: 0.8245 - val_iou_metric: 0.2126\n",
      "Epoch 3/100\n",
      "66/66 [==============================] - 20s 310ms/step - loss: 0.7556 - iou_metric: 0.2852 - val_loss: 0.8341 - val_iou_metric: 0.2073\n",
      "Epoch 4/100\n",
      "66/66 [==============================] - 20s 309ms/step - loss: 0.8068 - iou_metric: 0.2480 - val_loss: 0.8457 - val_iou_metric: 0.1994\n",
      "Epoch 5/100\n",
      "66/66 [==============================] - 20s 303ms/step - loss: 0.7837 - iou_metric: 0.2630 - val_loss: 0.8413 - val_iou_metric: 0.2160\n",
      "Epoch 6/100\n",
      "66/66 [==============================] - 20s 302ms/step - loss: 0.7775 - iou_metric: 0.2697 - val_loss: 0.8142 - val_iou_metric: 0.2237\n",
      "Epoch 7/100\n",
      "66/66 [==============================] - 20s 306ms/step - loss: 0.7630 - iou_metric: 0.2776 - val_loss: 0.8248 - val_iou_metric: 0.2189\n",
      "Epoch 8/100\n",
      "66/66 [==============================] - 20s 306ms/step - loss: 0.7698 - iou_metric: 0.2705 - val_loss: 0.8322 - val_iou_metric: 0.2238\n",
      "Epoch 9/100\n",
      "66/66 [==============================] - 20s 305ms/step - loss: 0.7439 - iou_metric: 0.2950 - val_loss: 0.8164 - val_iou_metric: 0.2216\n",
      "Epoch 10/100\n",
      "66/66 [==============================] - 20s 309ms/step - loss: 0.7807 - iou_metric: 0.2625 - val_loss: 0.8254 - val_iou_metric: 0.2257\n",
      "Epoch 11/100\n",
      "66/66 [==============================] - 21s 315ms/step - loss: 0.7663 - iou_metric: 0.2750 - val_loss: 0.8253 - val_iou_metric: 0.2158\n",
      "Epoch 12/100\n",
      "66/66 [==============================] - 20s 304ms/step - loss: 0.7683 - iou_metric: 0.2728 - val_loss: 0.8076 - val_iou_metric: 0.2373\n",
      "Epoch 13/100\n",
      "66/66 [==============================] - 20s 310ms/step - loss: 0.7410 - iou_metric: 0.2980 - val_loss: 0.8200 - val_iou_metric: 0.2248\n",
      "Epoch 14/100\n",
      "66/66 [==============================] - 21s 311ms/step - loss: 0.7527 - iou_metric: 0.2837 - val_loss: 0.8225 - val_iou_metric: 0.2298\n",
      "Epoch 15/100\n",
      "66/66 [==============================] - 21s 313ms/step - loss: 0.7397 - iou_metric: 0.2995 - val_loss: 0.8132 - val_iou_metric: 0.2261\n",
      "Epoch 16/100\n",
      "66/66 [==============================] - 20s 308ms/step - loss: 0.7622 - iou_metric: 0.2768 - val_loss: 0.7890 - val_iou_metric: 0.2507\n",
      "Epoch 17/100\n",
      "66/66 [==============================] - 20s 306ms/step - loss: 0.7456 - iou_metric: 0.2909 - val_loss: 0.7986 - val_iou_metric: 0.2379\n",
      "Epoch 18/100\n",
      "66/66 [==============================] - 20s 308ms/step - loss: 0.7403 - iou_metric: 0.2930 - val_loss: 0.7985 - val_iou_metric: 0.2445\n",
      "Epoch 19/100\n",
      "66/66 [==============================] - 20s 307ms/step - loss: 0.7219 - iou_metric: 0.3138 - val_loss: 0.8016 - val_iou_metric: 0.2404\n",
      "Epoch 20/100\n",
      "66/66 [==============================] - 20s 308ms/step - loss: 0.7397 - iou_metric: 0.2973 - val_loss: 0.8055 - val_iou_metric: 0.2334\n",
      "Epoch 21/100\n",
      "66/66 [==============================] - 20s 306ms/step - loss: 0.7385 - iou_metric: 0.2964 - val_loss: 0.8224 - val_iou_metric: 0.2177\n",
      "Epoch 22/100\n",
      "66/66 [==============================] - 21s 312ms/step - loss: 0.7480 - iou_metric: 0.2902 - val_loss: 0.8147 - val_iou_metric: 0.2278\n",
      "Epoch 23/100\n",
      "66/66 [==============================] - 21s 311ms/step - loss: 0.7204 - iou_metric: 0.3163 - val_loss: 0.8371 - val_iou_metric: 0.2034\n",
      "Epoch 24/100\n",
      "66/66 [==============================] - 21s 319ms/step - loss: 0.7288 - iou_metric: 0.3075 - val_loss: 0.8192 - val_iou_metric: 0.2214\n",
      "Epoch 25/100\n",
      "66/66 [==============================] - 21s 312ms/step - loss: 0.6768 - iou_metric: 0.3544 - val_loss: 0.8142 - val_iou_metric: 0.2292\n",
      "Epoch 26/100\n",
      "66/66 [==============================] - 21s 313ms/step - loss: 0.6591 - iou_metric: 0.3693 - val_loss: 0.8192 - val_iou_metric: 0.2263\n",
      "Epoch 27/100\n",
      "66/66 [==============================] - 20s 309ms/step - loss: 0.6714 - iou_metric: 0.3579 - val_loss: 0.8044 - val_iou_metric: 0.2416\n",
      "Epoch 28/100\n",
      "66/66 [==============================] - 20s 308ms/step - loss: 0.6310 - iou_metric: 0.3960 - val_loss: 0.8245 - val_iou_metric: 0.2169\n",
      "Epoch 29/100\n",
      "66/66 [==============================] - 21s 313ms/step - loss: 0.5921 - iou_metric: 0.4276 - val_loss: 0.8418 - val_iou_metric: 0.2070\n",
      "Epoch 30/100\n",
      "66/66 [==============================] - 21s 315ms/step - loss: 0.5821 - iou_metric: 0.4397 - val_loss: 0.8095 - val_iou_metric: 0.2365\n",
      "Epoch 31/100\n",
      "66/66 [==============================] - 20s 308ms/step - loss: 0.5511 - iou_metric: 0.4667 - val_loss: 0.8549 - val_iou_metric: 0.1979\n",
      "Epoch 32/100\n",
      "66/66 [==============================] - 20s 307ms/step - loss: 0.5599 - iou_metric: 0.4577 - val_loss: 0.8532 - val_iou_metric: 0.1923\n",
      "Epoch 33/100\n",
      "66/66 [==============================] - 21s 312ms/step - loss: 0.5572 - iou_metric: 0.4584 - val_loss: 0.8210 - val_iou_metric: 0.2207\n",
      "Epoch 34/100\n",
      "66/66 [==============================] - 21s 319ms/step - loss: 0.5942 - iou_metric: 0.4257 - val_loss: 0.8812 - val_iou_metric: 0.1702\n",
      "Epoch 35/100\n",
      "66/66 [==============================] - 20s 308ms/step - loss: 0.5352 - iou_metric: 0.4816 - val_loss: 0.8296 - val_iou_metric: 0.2083\n",
      "Epoch 36/100\n",
      "66/66 [==============================] - 20s 307ms/step - loss: 0.5146 - iou_metric: 0.4994 - val_loss: 0.8747 - val_iou_metric: 0.1723\n",
      "Epoch 37/100\n",
      "66/66 [==============================] - 20s 305ms/step - loss: 0.4896 - iou_metric: 0.5227 - val_loss: 0.8458 - val_iou_metric: 0.1973\n",
      "Epoch 38/100\n",
      "66/66 [==============================] - 21s 313ms/step - loss: 0.4412 - iou_metric: 0.5679 - val_loss: 0.8394 - val_iou_metric: 0.2017\n",
      "Epoch 39/100\n",
      "66/66 [==============================] - 21s 311ms/step - loss: 0.4988 - iou_metric: 0.5134 - val_loss: 0.8301 - val_iou_metric: 0.2118\n",
      "Epoch 40/100\n",
      "66/66 [==============================] - 21s 311ms/step - loss: 0.4757 - iou_metric: 0.5353 - val_loss: 0.8520 - val_iou_metric: 0.1926\n",
      "Epoch 41/100\n",
      "66/66 [==============================] - 21s 313ms/step - loss: 0.5030 - iou_metric: 0.5115 - val_loss: 0.8709 - val_iou_metric: 0.1697\n",
      "Epoch 42/100\n",
      "66/66 [==============================] - 21s 316ms/step - loss: 0.4508 - iou_metric: 0.5595 - val_loss: 0.8243 - val_iou_metric: 0.2143\n",
      "Epoch 43/100\n",
      "66/66 [==============================] - 20s 309ms/step - loss: 0.4169 - iou_metric: 0.5917 - val_loss: 0.8495 - val_iou_metric: 0.1913\n",
      "Epoch 44/100\n",
      "66/66 [==============================] - 20s 309ms/step - loss: 0.4015 - iou_metric: 0.6076 - val_loss: 0.8819 - val_iou_metric: 0.1663\n",
      "Epoch 45/100\n",
      "66/66 [==============================] - 20s 309ms/step - loss: 0.4061 - iou_metric: 0.6020 - val_loss: 0.8581 - val_iou_metric: 0.1891\n",
      "Epoch 46/100\n",
      "66/66 [==============================] - 20s 308ms/step - loss: 0.3845 - iou_metric: 0.6221 - val_loss: 0.8679 - val_iou_metric: 0.1753\n",
      "Epoch 47/100\n",
      "66/66 [==============================] - 20s 309ms/step - loss: 0.3710 - iou_metric: 0.6349 - val_loss: 0.8520 - val_iou_metric: 0.1896\n",
      "Epoch 48/100\n",
      "66/66 [==============================] - 20s 309ms/step - loss: 0.3973 - iou_metric: 0.6099 - val_loss: 0.8436 - val_iou_metric: 0.1962\n",
      "Epoch 49/100\n",
      "66/66 [==============================] - 20s 309ms/step - loss: 0.3525 - iou_metric: 0.6528 - val_loss: 0.8640 - val_iou_metric: 0.1785\n",
      "Epoch 50/100\n",
      "66/66 [==============================] - 21s 314ms/step - loss: 0.3818 - iou_metric: 0.6245 - val_loss: 0.8617 - val_iou_metric: 0.1825\n",
      "Epoch 51/100\n",
      "66/66 [==============================] - 21s 323ms/step - loss: 0.3631 - iou_metric: 0.6420 - val_loss: 0.8656 - val_iou_metric: 0.1740\n",
      "Epoch 52/100\n",
      "66/66 [==============================] - 20s 306ms/step - loss: 0.3793 - iou_metric: 0.6263 - val_loss: 0.8447 - val_iou_metric: 0.1946\n",
      "Epoch 53/100\n",
      "66/66 [==============================] - 20s 306ms/step - loss: 0.3300 - iou_metric: 0.6745 - val_loss: 0.8689 - val_iou_metric: 0.1715\n",
      "Epoch 54/100\n",
      "66/66 [==============================] - 20s 307ms/step - loss: 0.3304 - iou_metric: 0.6753 - val_loss: 0.8801 - val_iou_metric: 0.1633\n",
      "Epoch 55/100\n",
      "66/66 [==============================] - 20s 306ms/step - loss: 0.3071 - iou_metric: 0.6963 - val_loss: 0.8787 - val_iou_metric: 0.1671\n",
      "Epoch 56/100\n",
      "66/66 [==============================] - 20s 307ms/step - loss: 0.3679 - iou_metric: 0.6384 - val_loss: 0.8439 - val_iou_metric: 0.1985\n",
      "Epoch 57/100\n",
      "66/66 [==============================] - 20s 307ms/step - loss: 0.3141 - iou_metric: 0.6900 - val_loss: 0.8770 - val_iou_metric: 0.1635\n",
      "Epoch 58/100\n",
      "66/66 [==============================] - 20s 307ms/step - loss: 0.3123 - iou_metric: 0.6906 - val_loss: 0.8635 - val_iou_metric: 0.1791\n",
      "Epoch 59/100\n",
      "66/66 [==============================] - 20s 307ms/step - loss: 0.3085 - iou_metric: 0.6944 - val_loss: 0.8411 - val_iou_metric: 0.1978\n",
      "Epoch 60/100\n",
      "66/66 [==============================] - 20s 307ms/step - loss: 0.2896 - iou_metric: 0.7131 - val_loss: 0.8673 - val_iou_metric: 0.1729\n",
      "Epoch 61/100\n",
      "66/66 [==============================] - 20s 307ms/step - loss: 0.2702 - iou_metric: 0.7324 - val_loss: 0.8554 - val_iou_metric: 0.1856\n",
      "Epoch 62/100\n",
      "66/66 [==============================] - 20s 305ms/step - loss: 0.2688 - iou_metric: 0.7335 - val_loss: 0.8799 - val_iou_metric: 0.1618\n",
      "Epoch 63/100\n",
      "66/66 [==============================] - 20s 305ms/step - loss: 0.2848 - iou_metric: 0.7177 - val_loss: 0.8512 - val_iou_metric: 0.1913\n",
      "Epoch 64/100\n",
      "66/66 [==============================] - 20s 309ms/step - loss: 0.2803 - iou_metric: 0.7223 - val_loss: 0.8751 - val_iou_metric: 0.1687\n",
      "Epoch 65/100\n",
      "66/66 [==============================] - 20s 307ms/step - loss: 0.2943 - iou_metric: 0.7088 - val_loss: 0.8516 - val_iou_metric: 0.1888\n",
      "Epoch 66/100\n",
      "66/66 [==============================] - 20s 308ms/step - loss: 0.3207 - iou_metric: 0.6829 - val_loss: 0.8854 - val_iou_metric: 0.1603\n",
      "Epoch 67/100\n",
      "66/66 [==============================] - 20s 306ms/step - loss: 0.3150 - iou_metric: 0.6886 - val_loss: 0.8661 - val_iou_metric: 0.1748\n",
      "Epoch 68/100\n",
      "66/66 [==============================] - 20s 310ms/step - loss: 0.3223 - iou_metric: 0.6822 - val_loss: 0.8842 - val_iou_metric: 0.1589\n",
      "Epoch 69/100\n",
      "66/66 [==============================] - 21s 311ms/step - loss: 0.2927 - iou_metric: 0.7105 - val_loss: 0.8609 - val_iou_metric: 0.1818\n",
      "Epoch 70/100\n",
      "66/66 [==============================] - 21s 311ms/step - loss: 0.2896 - iou_metric: 0.7131 - val_loss: 0.8519 - val_iou_metric: 0.1889\n",
      "Epoch 71/100\n",
      "66/66 [==============================] - 21s 316ms/step - loss: 0.2861 - iou_metric: 0.7162 - val_loss: 0.8506 - val_iou_metric: 0.1909\n",
      "Epoch 72/100\n",
      "66/66 [==============================] - 20s 309ms/step - loss: 0.2607 - iou_metric: 0.7413 - val_loss: 0.8604 - val_iou_metric: 0.1800\n",
      "Epoch 73/100\n",
      "66/66 [==============================] - 20s 308ms/step - loss: 0.2479 - iou_metric: 0.7546 - val_loss: 0.8532 - val_iou_metric: 0.1853\n",
      "Epoch 74/100\n",
      "66/66 [==============================] - 21s 313ms/step - loss: 0.2907 - iou_metric: 0.7125 - val_loss: 0.8512 - val_iou_metric: 0.1895\n",
      "Epoch 75/100\n",
      "66/66 [==============================] - 21s 312ms/step - loss: 0.2548 - iou_metric: 0.7471 - val_loss: 0.8449 - val_iou_metric: 0.1908\n",
      "Epoch 76/100\n",
      "66/66 [==============================] - 21s 315ms/step - loss: 0.2866 - iou_metric: 0.7158 - val_loss: 0.8634 - val_iou_metric: 0.1808\n",
      "Epoch 77/100\n",
      "66/66 [==============================] - 21s 316ms/step - loss: 0.2416 - iou_metric: 0.7601 - val_loss: 0.8667 - val_iou_metric: 0.1753\n",
      "Epoch 78/100\n",
      "66/66 [==============================] - 20s 309ms/step - loss: 0.2459 - iou_metric: 0.7556 - val_loss: 0.8598 - val_iou_metric: 0.1806\n",
      "Epoch 79/100\n",
      "66/66 [==============================] - 21s 315ms/step - loss: 0.2589 - iou_metric: 0.7426 - val_loss: 0.8654 - val_iou_metric: 0.1770\n",
      "Epoch 80/100\n",
      "66/66 [==============================] - 21s 313ms/step - loss: 0.2490 - iou_metric: 0.7529 - val_loss: 0.8488 - val_iou_metric: 0.1913\n",
      "Epoch 81/100\n",
      "66/66 [==============================] - 20s 305ms/step - loss: 0.2413 - iou_metric: 0.7602 - val_loss: 0.8633 - val_iou_metric: 0.1776\n",
      "Epoch 82/100\n",
      "66/66 [==============================] - 20s 307ms/step - loss: 0.2493 - iou_metric: 0.7521 - val_loss: 0.8595 - val_iou_metric: 0.1791\n",
      "Epoch 83/100\n",
      "66/66 [==============================] - 20s 308ms/step - loss: 0.2256 - iou_metric: 0.7756 - val_loss: 0.8517 - val_iou_metric: 0.1879\n",
      "Epoch 84/100\n",
      "66/66 [==============================] - 20s 309ms/step - loss: 0.2501 - iou_metric: 0.7518 - val_loss: 0.8615 - val_iou_metric: 0.1777\n",
      "Epoch 85/100\n",
      "66/66 [==============================] - 20s 309ms/step - loss: 0.2496 - iou_metric: 0.7525 - val_loss: 0.8583 - val_iou_metric: 0.1818\n",
      "Epoch 86/100\n",
      "66/66 [==============================] - 20s 304ms/step - loss: 0.2469 - iou_metric: 0.7550 - val_loss: 0.8672 - val_iou_metric: 0.1736\n",
      "Epoch 87/100\n",
      "66/66 [==============================] - 20s 308ms/step - loss: 0.2226 - iou_metric: 0.7788 - val_loss: 0.8552 - val_iou_metric: 0.1847\n",
      "Epoch 88/100\n",
      "66/66 [==============================] - 20s 309ms/step - loss: 0.2587 - iou_metric: 0.7432 - val_loss: 0.8559 - val_iou_metric: 0.1852\n",
      "Epoch 89/100\n",
      "66/66 [==============================] - 21s 311ms/step - loss: 0.2497 - iou_metric: 0.7519 - val_loss: 0.8415 - val_iou_metric: 0.1959\n",
      "Epoch 90/100\n",
      "66/66 [==============================] - 20s 307ms/step - loss: 0.2210 - iou_metric: 0.7804 - val_loss: 0.8674 - val_iou_metric: 0.1730\n",
      "Epoch 91/100\n",
      "66/66 [==============================] - 20s 308ms/step - loss: 0.2076 - iou_metric: 0.7936 - val_loss: 0.8572 - val_iou_metric: 0.1830\n",
      "Epoch 92/100\n",
      "66/66 [==============================] - 20s 306ms/step - loss: 0.2144 - iou_metric: 0.7867 - val_loss: 0.8658 - val_iou_metric: 0.1742\n",
      "Epoch 93/100\n",
      "66/66 [==============================] - 20s 304ms/step - loss: 0.2218 - iou_metric: 0.7796 - val_loss: 0.8359 - val_iou_metric: 0.2046\n",
      "Epoch 94/100\n",
      "66/66 [==============================] - 22s 328ms/step - loss: 0.2218 - iou_metric: 0.7795 - val_loss: 0.8621 - val_iou_metric: 0.1808\n",
      "Epoch 95/100\n",
      "66/66 [==============================] - 21s 315ms/step - loss: 0.2350 - iou_metric: 0.7661 - val_loss: 0.8649 - val_iou_metric: 0.1750\n",
      "Epoch 96/100\n",
      "66/66 [==============================] - 20s 309ms/step - loss: 0.1887 - iou_metric: 0.8121 - val_loss: 0.8657 - val_iou_metric: 0.1755\n",
      "Epoch 97/100\n",
      "66/66 [==============================] - 21s 313ms/step - loss: 0.2219 - iou_metric: 0.7793 - val_loss: 0.8578 - val_iou_metric: 0.1820\n",
      "Epoch 98/100\n",
      "66/66 [==============================] - 21s 313ms/step - loss: 0.2212 - iou_metric: 0.7801 - val_loss: 0.8392 - val_iou_metric: 0.1998\n",
      "Epoch 99/100\n",
      "66/66 [==============================] - 20s 306ms/step - loss: 0.2278 - iou_metric: 0.7737 - val_loss: 0.8699 - val_iou_metric: 0.1709\n",
      "Epoch 100/100\n",
      "66/66 [==============================] - 21s 315ms/step - loss: 0.2097 - iou_metric: 0.7915 - val_loss: 0.8561 - val_iou_metric: 0.1848\n"
     ]
    },
    {
     "data": {
      "text/plain": [
       "<tensorflow.python.keras.callbacks.History at 0x1662b88e0>"
      ]
     },
     "execution_count": 16,
     "metadata": {},
     "output_type": "execute_result"
    }
   ],
   "source": [
    "model.fit( \n",
    "    x_train ,\n",
    "    y_train , \n",
    "    validation_data=( x_test , y_test ),\n",
    "    epochs=100 ,\n",
    "    batch_size=3 \n",
    ")"
   ]
  },
  {
   "cell_type": "markdown",
   "id": "ceeeecf9",
   "metadata": {},
   "source": [
    "## Save model"
   ]
  },
  {
   "cell_type": "code",
   "execution_count": 23,
   "id": "f4907d69",
   "metadata": {},
   "outputs": [],
   "source": [
    "model.save( 'model.h5')"
   ]
  },
  {
   "cell_type": "markdown",
   "id": "d3cae5b6",
   "metadata": {},
   "source": [
    "## Define a function to draw bounding box and output the data in a dir"
   ]
  },
  {
   "cell_type": "code",
   "execution_count": 19,
   "id": "ca0c63a6",
   "metadata": {},
   "outputs": [],
   "source": [
    "def predict_n_drawBnd(model, imagedata, outputfilename):\n",
    "    os.mkdir(outputfilename)\n",
    "    boxes = model.predict( imagedata )\n",
    "    for i in range( boxes.shape[0] ):\n",
    "        b = boxes[ i , 0 : 4 ] * 480 \n",
    "        img = imagedata[i] * 255\n",
    "        source_img = Image.fromarray( img.astype( np.uint8 ) , 'RGB' )\n",
    "        draw = ImageDraw.Draw( source_img )\n",
    "        draw.rectangle( b , outline=\"black\" )\n",
    "        filename = outputfilename +'/image_{}.png'\n",
    "        source_img.save( outputfilename +'/image_{}.png'.format( i + 1 ) , 'png' )"
   ]
  },
  {
   "cell_type": "markdown",
   "id": "f29d742f",
   "metadata": {},
   "source": [
    "## Predict on validation data"
   ]
  },
  {
   "cell_type": "code",
   "execution_count": 20,
   "id": "8851f19c",
   "metadata": {},
   "outputs": [
    {
     "name": "stdout",
     "output_type": "stream",
     "text": [
      "WARNING:tensorflow:AutoGraph could not transform <function Model.make_predict_function.<locals>.predict_function at 0x2afe8b310> and will run it as-is.\n",
      "Please report this to the TensorFlow team. When filing the bug, set the verbosity to 10 (on Linux, `export AUTOGRAPH_VERBOSITY=10`) and attach the full output.\n",
      "Cause: unsupported operand type(s) for -: 'NoneType' and 'int'\n",
      "To silence this warning, decorate the function with @tf.autograph.experimental.do_not_convert\n",
      "WARNING: AutoGraph could not transform <function Model.make_predict_function.<locals>.predict_function at 0x2afe8b310> and will run it as-is.\n",
      "Please report this to the TensorFlow team. When filing the bug, set the verbosity to 10 (on Linux, `export AUTOGRAPH_VERBOSITY=10`) and attach the full output.\n",
      "Cause: unsupported operand type(s) for -: 'NoneType' and 'int'\n",
      "To silence this warning, decorate the function with @tf.autograph.experimental.do_not_convert\n"
     ]
    }
   ],
   "source": [
    "predict_n_drawBnd(model, x_test, 'inference_images')"
   ]
  },
  {
   "cell_type": "markdown",
   "id": "70454ec0",
   "metadata": {},
   "source": [
    "## Let the model to meet the test data"
   ]
  },
  {
   "cell_type": "code",
   "execution_count": 14,
   "id": "4c29f8cf",
   "metadata": {},
   "outputs": [],
   "source": [
    "valid_images_paths = glob.glob(r'./Dataset -teeth/clean/valid/images/*.JPG')"
   ]
  },
  {
   "cell_type": "code",
   "execution_count": 15,
   "id": "bd530851",
   "metadata": {},
   "outputs": [],
   "source": [
    "valid_images = []\n",
    "for imagefile in valid_images_paths:\n",
    "    image = Image.open(imagefile)\n",
    "    image = np.asarray(image)/255.0\n",
    "    valid_images.append(image)"
   ]
  },
  {
   "cell_type": "code",
   "execution_count": 16,
   "id": "44175545",
   "metadata": {},
   "outputs": [],
   "source": [
    "x_valid = np.array( valid_images )"
   ]
  },
  {
   "cell_type": "code",
   "execution_count": 17,
   "id": "7ef8dc2d",
   "metadata": {},
   "outputs": [
    {
     "data": {
      "text/plain": [
       "(32, 480, 480, 3)"
      ]
     },
     "execution_count": 17,
     "metadata": {},
     "output_type": "execute_result"
    }
   ],
   "source": [
    "x_valid.shape"
   ]
  },
  {
   "cell_type": "code",
   "execution_count": 20,
   "id": "b9235950",
   "metadata": {
    "collapsed": true
   },
   "outputs": [
    {
     "name": "stdout",
     "output_type": "stream",
     "text": [
      "WARNING:tensorflow:AutoGraph could not transform <function Model.make_predict_function.<locals>.predict_function at 0x15bcc28b0> and will run it as-is.\n",
      "Please report this to the TensorFlow team. When filing the bug, set the verbosity to 10 (on Linux, `export AUTOGRAPH_VERBOSITY=10`) and attach the full output.\n",
      "Cause: unsupported operand type(s) for -: 'NoneType' and 'int'\n",
      "To silence this warning, decorate the function with @tf.autograph.experimental.do_not_convert\n",
      "WARNING: AutoGraph could not transform <function Model.make_predict_function.<locals>.predict_function at 0x15bcc28b0> and will run it as-is.\n",
      "Please report this to the TensorFlow team. When filing the bug, set the verbosity to 10 (on Linux, `export AUTOGRAPH_VERBOSITY=10`) and attach the full output.\n",
      "Cause: unsupported operand type(s) for -: 'NoneType' and 'int'\n",
      "To silence this warning, decorate the function with @tf.autograph.experimental.do_not_convert\n"
     ]
    },
    {
     "name": "stderr",
     "output_type": "stream",
     "text": [
      "2022-02-21 20:11:07.215398: I tensorflow/compiler/mlir/mlir_graph_optimization_pass.cc:116] None of the MLIR optimization passes are enabled (registered 2)\n",
      "2022-02-21 20:11:07.215551: W tensorflow/core/platform/profile_utils/cpu_utils.cc:126] Failed to get CPU frequency: 0 Hz\n"
     ]
    }
   ],
   "source": [
    "predict_n_drawBnd(model, x_valid, 'inference_valid_images')"
   ]
  },
  {
   "cell_type": "markdown",
   "id": "86ba0a68",
   "metadata": {},
   "source": [
    "## Load model and compile"
   ]
  },
  {
   "cell_type": "code",
   "execution_count": 1,
   "id": "1fe8b3d1",
   "metadata": {},
   "outputs": [],
   "source": [
    "from tensorflow import keras\n",
    "import tensorflow as tf\n",
    "from tensorflow.keras.models import load_model"
   ]
  },
  {
   "cell_type": "code",
   "execution_count": 9,
   "id": "9afa9c3b",
   "metadata": {},
   "outputs": [],
   "source": [
    "model = load_model('model.h5', compile = False)"
   ]
  },
  {
   "cell_type": "code",
   "execution_count": 10,
   "id": "5c0dcdf7",
   "metadata": {},
   "outputs": [],
   "source": [
    "model.compile(\n",
    "\toptimizer=keras.optimizers.Adam( lr=0.0001 ),\n",
    "\tloss=custom_loss,\n",
    "    metrics=[ iou_metric ]\n",
    ")"
   ]
  }
 ],
 "metadata": {
  "kernelspec": {
   "display_name": "Python 3 (ipykernel)",
   "language": "python",
   "name": "python3"
  },
  "language_info": {
   "codemirror_mode": {
    "name": "ipython",
    "version": 3
   },
   "file_extension": ".py",
   "mimetype": "text/x-python",
   "name": "python",
   "nbconvert_exporter": "python",
   "pygments_lexer": "ipython3",
   "version": "3.10.9"
  }
 },
 "nbformat": 4,
 "nbformat_minor": 5
}
